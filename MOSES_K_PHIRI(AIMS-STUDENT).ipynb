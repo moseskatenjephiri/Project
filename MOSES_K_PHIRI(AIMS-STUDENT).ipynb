{
 "cells": [
  {
   "cell_type": "markdown",
   "id": "retained-exclusion",
   "metadata": {},
   "source": [
    "# BAYESIAN OPTIMISATION IN A BIG DATA SCENARIO"
   ]
  },
  {
   "cell_type": "code",
   "execution_count": 1,
   "id": "downtown-screening",
   "metadata": {},
   "outputs": [],
   "source": [
    "# importing modules\n",
    "import numpy as np\n",
    "import pandas as pd\n",
    "import random\n",
    "import math\n",
    "from datetime import datetime\n",
    "from scipy.optimize import minimize\n",
    "from scipy.stats import norm\n",
    "from sklearn.gaussian_process.kernels import RBF, Matern,ConstantKernel as C\n",
    "from skopt import gp_minimize\n",
    "from skopt.plots import plot_convergence\n",
    "from bayes_opt import BayesianOptimization\n",
    "from matplotlib import pyplot as plt"
   ]
  },
  {
   "cell_type": "markdown",
   "id": "reflected-parking",
   "metadata": {},
   "source": [
    "## Minimising the function in 3D\n",
    "\\\n",
    "We implemented a 3D gaussian problem which has the following variables: x,y and z;\\\n",
    "\\\n",
    "The equation which defined our objective function was;\\\n",
    "\\\n",
    "$f(x,y,z)=2x^{3}-7xy^{2}+4xz+z^{2} $\n"
   ]
  },
  {
   "cell_type": "code",
   "execution_count": 2,
   "id": "correct-istanbul",
   "metadata": {},
   "outputs": [
    {
     "name": "stdout",
     "output_type": "stream",
     "text": [
      "|   iter    |  target   |     x     |     y     |     z     |\n",
      "-------------------------------------------------------------\n",
      "| \u001b[0m1        \u001b[0m | \u001b[0m-3.807   \u001b[0m | \u001b[0m0.383    \u001b[0m | \u001b[0m2.252    \u001b[0m | \u001b[0m1.832    \u001b[0m |\n",
      "| \u001b[95m2        \u001b[0m | \u001b[95m-2.698   \u001b[0m | \u001b[95m0.06915  \u001b[0m | \u001b[95m-2.32    \u001b[0m | \u001b[95m0.226    \u001b[0m |\n",
      "| \u001b[0m3        \u001b[0m | \u001b[0m-6.423   \u001b[0m | \u001b[0m2.428    \u001b[0m | \u001b[0m-1.826   \u001b[0m | \u001b[0m-1.145   \u001b[0m |\n",
      "| \u001b[95m4        \u001b[0m | \u001b[95m0.9702   \u001b[0m | \u001b[95m0.4541   \u001b[0m | \u001b[95m-1.933   \u001b[0m | \u001b[95m-2.213   \u001b[0m |\n",
      "| \u001b[0m5        \u001b[0m | \u001b[0m-22.88   \u001b[0m | \u001b[0m1.211    \u001b[0m | \u001b[0m-1.361   \u001b[0m | \u001b[0m2.914    \u001b[0m |\n",
      "| \u001b[95m6        \u001b[0m | \u001b[95m16.11    \u001b[0m | \u001b[95m-0.4431  \u001b[0m | \u001b[95m-2.591   \u001b[0m | \u001b[95m-1.44    \u001b[0m |\n",
      "| \u001b[95m7        \u001b[0m | \u001b[95m42.68    \u001b[0m | \u001b[95m-1.116   \u001b[0m | \u001b[95m-2.919   \u001b[0m | \u001b[95m-1.895   \u001b[0m |\n",
      "| \u001b[95m8        \u001b[0m | \u001b[95m67.39    \u001b[0m | \u001b[95m-1.803   \u001b[0m | \u001b[95m-3.0     \u001b[0m | \u001b[95m-1.732   \u001b[0m |\n",
      "| \u001b[0m9        \u001b[0m | \u001b[0m44.39    \u001b[0m | \u001b[0m-3.0     \u001b[0m | \u001b[0m-3.0     \u001b[0m | \u001b[0m-2.723   \u001b[0m |\n",
      "| \u001b[95m10       \u001b[0m | \u001b[95m115.8    \u001b[0m | \u001b[95m-3.0     \u001b[0m | \u001b[95m-3.0     \u001b[0m | \u001b[95m-0.5408  \u001b[0m |\n",
      "=============================================================\n",
      "Minimum value found  {'x': -3.0, 'y': -3.0, 'z': -0.5407772535974326}\n",
      "Minimum value = -115.82445890850082\n"
     ]
    }
   ],
   "source": [
    "#The objective function is being defined\n",
    "def f(x, y, z):\n",
    "    return 2*x**3-7*x*y**2+4*y*x*z+z**2\n",
    "# Setting the bounds for the parameters\n",
    "bounds = {'x': (-3,3), 'y': (-3,3), 'z': (-3,3)}\n",
    "\n",
    "# We now perfom BayesianOptimisation \n",
    "optimizer = BayesianOptimization(f=f, pbounds=bounds)\n",
    "\n",
    "# We aim to optimise the function for 10 iteration\n",
    "optimizer.maximize(init_points=5, n_iter=5)\n",
    "\n",
    "# Finding the minimum of the function\n",
    "minimum = -optimizer.max['target']\n",
    "\n",
    "# Displaying  the results\n",
    "print(\"Minimum value found \", optimizer.max['params'])\n",
    "print(\"Minimum value =\", minimum)"
   ]
  },
  {
   "cell_type": "code",
   "execution_count": 3,
   "id": "narrow-stylus",
   "metadata": {},
   "outputs": [
    {
     "name": "stdout",
     "output_type": "stream",
     "text": [
      "=================================================================================\n",
      "WE NOW PLOT OPTIMISATION HISTORY AS FOLLOWS\n",
      "=================================================================================\n"
     ]
    },
    {
     "data": {
      "image/png": "[encoded data removed]",
      "text/plain": [
       "<Figure size 432x288 with 1 Axes>"
      ]
     },
     "metadata": {
      "needs_background": "light"
     },
     "output_type": "display_data"
    }
   ],
   "source": [
    "print('=================================================================================')\n",
    "print('WE NOW PLOT OPTIMISATION HISTORY AS FOLLOWS')\n",
    "print('=================================================================================')\n",
    "# Plot the optimization history\n",
    "history = optimizer.res\n",
    "x = [i for i in range(len(history))]\n",
    "y = [-i['target'] for i in history]\n",
    "plt.plot(x, y)\n",
    "plt.xlabel('Iteration')\n",
    "plt.ylabel('Best Value of the function ')\n",
    "plt.title('Bayesian Optimization of the Function')\n",
    "plt.show()"
   ]
  },
  {
   "cell_type": "markdown",
   "id": "closing-international",
   "metadata": {},
   "source": [
    "# Implementing Bayesian Optimisation using the NYSE Data\n"
   ]
  },
  {
   "cell_type": "markdown",
   "id": "neural-nashville",
   "metadata": {},
   "source": [
    "### LOADING THE DATA INTO PYTHON"
   ]
  },
  {
   "cell_type": "code",
   "execution_count": 4,
   "id": "outer-appliance",
   "metadata": {},
   "outputs": [],
   "source": [
    "#importing data into python using panda\n",
    "df = pd.read_csv('Downloads/prices.csv')\n",
    "df1 = pd.read_csv('Downloads/securities.csv')"
   ]
  },
  {
   "cell_type": "markdown",
   "id": "sophisticated-basics",
   "metadata": {},
   "source": [
    "### CHECKING FOR THE LOADED DATA"
   ]
  },
  {
   "cell_type": "code",
   "execution_count": 5,
   "id": "looking-netherlands",
   "metadata": {},
   "outputs": [
    {
     "data": {
      "text/html": [
       "<div>\n",
       "<style scoped>\n",
       "    .dataframe tbody tr th:only-of-type {\n",
       "        vertical-align: middle;\n",
       "    }\n",
       "\n",
       "    .dataframe tbody tr th {\n",
       "        vertical-align: top;\n",
       "    }\n",
       "\n",
       "    .dataframe thead th {\n",
       "        text-align: right;\n",
       "    }\n",
       "</style>\n",
       "<table border=\"1\" class=\"dataframe\">\n",
       "  <thead>\n",
       "    <tr style=\"text-align: right;\">\n",
       "      <th></th>\n",
       "      <th>date</th>\n",
       "      <th>symbol</th>\n",
       "      <th>open</th>\n",
       "      <th>close</th>\n",
       "      <th>low</th>\n",
       "      <th>high</th>\n",
       "      <th>volume</th>\n",
       "    </tr>\n",
       "  </thead>\n",
       "  <tbody>\n",
       "    <tr>\n",
       "      <th>0</th>\n",
       "      <td>2016-01-05 00:00:00</td>\n",
       "      <td>WLTW</td>\n",
       "      <td>123.430000</td>\n",
       "      <td>125.839996</td>\n",
       "      <td>122.309998</td>\n",
       "      <td>126.250000</td>\n",
       "      <td>2163600.0</td>\n",
       "    </tr>\n",
       "    <tr>\n",
       "      <th>1</th>\n",
       "      <td>2016-01-06 00:00:00</td>\n",
       "      <td>WLTW</td>\n",
       "      <td>125.239998</td>\n",
       "      <td>119.980003</td>\n",
       "      <td>119.940002</td>\n",
       "      <td>125.540001</td>\n",
       "      <td>2386400.0</td>\n",
       "    </tr>\n",
       "    <tr>\n",
       "      <th>2</th>\n",
       "      <td>2016-01-07 00:00:00</td>\n",
       "      <td>WLTW</td>\n",
       "      <td>116.379997</td>\n",
       "      <td>114.949997</td>\n",
       "      <td>114.930000</td>\n",
       "      <td>119.739998</td>\n",
       "      <td>2489500.0</td>\n",
       "    </tr>\n",
       "    <tr>\n",
       "      <th>3</th>\n",
       "      <td>2016-01-08 00:00:00</td>\n",
       "      <td>WLTW</td>\n",
       "      <td>115.480003</td>\n",
       "      <td>116.620003</td>\n",
       "      <td>113.500000</td>\n",
       "      <td>117.440002</td>\n",
       "      <td>2006300.0</td>\n",
       "    </tr>\n",
       "    <tr>\n",
       "      <th>4</th>\n",
       "      <td>2016-01-11 00:00:00</td>\n",
       "      <td>WLTW</td>\n",
       "      <td>117.010002</td>\n",
       "      <td>114.970001</td>\n",
       "      <td>114.089996</td>\n",
       "      <td>117.330002</td>\n",
       "      <td>1408600.0</td>\n",
       "    </tr>\n",
       "  </tbody>\n",
       "</table>\n",
       "</div>"
      ],
      "text/plain": [
       "                  date symbol        open       close         low        high  \\\n",
       "0  2016-01-05 00:00:00   WLTW  123.430000  125.839996  122.309998  126.250000   \n",
       "1  2016-01-06 00:00:00   WLTW  125.239998  119.980003  119.940002  125.540001   \n",
       "2  2016-01-07 00:00:00   WLTW  116.379997  114.949997  114.930000  119.739998   \n",
       "3  2016-01-08 00:00:00   WLTW  115.480003  116.620003  113.500000  117.440002   \n",
       "4  2016-01-11 00:00:00   WLTW  117.010002  114.970001  114.089996  117.330002   \n",
       "\n",
       "      volume  \n",
       "0  2163600.0  \n",
       "1  2386400.0  \n",
       "2  2489500.0  \n",
       "3  2006300.0  \n",
       "4  1408600.0  "
      ]
     },
     "execution_count": 5,
     "metadata": {},
     "output_type": "execute_result"
    }
   ],
   "source": [
    "# Price data\n",
    "df.head()"
   ]
  },
  {
   "cell_type": "code",
   "execution_count": 6,
   "id": "future-vocabulary",
   "metadata": {
    "scrolled": true
   },
   "outputs": [
    {
     "data": {
      "text/html": [
       "<div>\n",
       "<style scoped>\n",
       "    .dataframe tbody tr th:only-of-type {\n",
       "        vertical-align: middle;\n",
       "    }\n",
       "\n",
       "    .dataframe tbody tr th {\n",
       "        vertical-align: top;\n",
       "    }\n",
       "\n",
       "    .dataframe thead th {\n",
       "        text-align: right;\n",
       "    }\n",
       "</style>\n",
       "<table border=\"1\" class=\"dataframe\">\n",
       "  <thead>\n",
       "    <tr style=\"text-align: right;\">\n",
       "      <th></th>\n",
       "      <th>Ticker symbol</th>\n",
       "      <th>Security</th>\n",
       "      <th>SEC filings</th>\n",
       "      <th>GICS Sector</th>\n",
       "      <th>GICS Sub Industry</th>\n",
       "      <th>Address of Headquarters</th>\n",
       "      <th>Date first added</th>\n",
       "      <th>CIK</th>\n",
       "    </tr>\n",
       "  </thead>\n",
       "  <tbody>\n",
       "    <tr>\n",
       "      <th>0</th>\n",
       "      <td>MMM</td>\n",
       "      <td>3M Company</td>\n",
       "      <td>reports</td>\n",
       "      <td>Industrials</td>\n",
       "      <td>Industrial Conglomerates</td>\n",
       "      <td>St. Paul, Minnesota</td>\n",
       "      <td>NaN</td>\n",
       "      <td>66740</td>\n",
       "    </tr>\n",
       "    <tr>\n",
       "      <th>1</th>\n",
       "      <td>ABT</td>\n",
       "      <td>Abbott Laboratories</td>\n",
       "      <td>reports</td>\n",
       "      <td>Health Care</td>\n",
       "      <td>Health Care Equipment</td>\n",
       "      <td>North Chicago, Illinois</td>\n",
       "      <td>1964-03-31</td>\n",
       "      <td>1800</td>\n",
       "    </tr>\n",
       "    <tr>\n",
       "      <th>2</th>\n",
       "      <td>ABBV</td>\n",
       "      <td>AbbVie</td>\n",
       "      <td>reports</td>\n",
       "      <td>Health Care</td>\n",
       "      <td>Pharmaceuticals</td>\n",
       "      <td>North Chicago, Illinois</td>\n",
       "      <td>2012-12-31</td>\n",
       "      <td>1551152</td>\n",
       "    </tr>\n",
       "    <tr>\n",
       "      <th>3</th>\n",
       "      <td>ACN</td>\n",
       "      <td>Accenture plc</td>\n",
       "      <td>reports</td>\n",
       "      <td>Information Technology</td>\n",
       "      <td>IT Consulting &amp; Other Services</td>\n",
       "      <td>Dublin, Ireland</td>\n",
       "      <td>2011-07-06</td>\n",
       "      <td>1467373</td>\n",
       "    </tr>\n",
       "    <tr>\n",
       "      <th>4</th>\n",
       "      <td>ATVI</td>\n",
       "      <td>Activision Blizzard</td>\n",
       "      <td>reports</td>\n",
       "      <td>Information Technology</td>\n",
       "      <td>Home Entertainment Software</td>\n",
       "      <td>Santa Monica, California</td>\n",
       "      <td>2015-08-31</td>\n",
       "      <td>718877</td>\n",
       "    </tr>\n",
       "  </tbody>\n",
       "</table>\n",
       "</div>"
      ],
      "text/plain": [
       "  Ticker symbol             Security SEC filings             GICS Sector  \\\n",
       "0           MMM           3M Company     reports             Industrials   \n",
       "1           ABT  Abbott Laboratories     reports             Health Care   \n",
       "2          ABBV               AbbVie     reports             Health Care   \n",
       "3           ACN        Accenture plc     reports  Information Technology   \n",
       "4          ATVI  Activision Blizzard     reports  Information Technology   \n",
       "\n",
       "                GICS Sub Industry   Address of Headquarters Date first added  \\\n",
       "0        Industrial Conglomerates       St. Paul, Minnesota              NaN   \n",
       "1           Health Care Equipment   North Chicago, Illinois       1964-03-31   \n",
       "2                 Pharmaceuticals   North Chicago, Illinois       2012-12-31   \n",
       "3  IT Consulting & Other Services           Dublin, Ireland       2011-07-06   \n",
       "4     Home Entertainment Software  Santa Monica, California       2015-08-31   \n",
       "\n",
       "       CIK  \n",
       "0    66740  \n",
       "1     1800  \n",
       "2  1551152  \n",
       "3  1467373  \n",
       "4   718877  "
      ]
     },
     "execution_count": 6,
     "metadata": {},
     "output_type": "execute_result"
    }
   ],
   "source": [
    "# Securities data\n",
    "df1.head()"
   ]
  },
  {
   "cell_type": "code",
   "execution_count": null,
   "id": "adjusted-accuracy",
   "metadata": {},
   "outputs": [],
   "source": []
  },
  {
   "cell_type": "markdown",
   "id": "little-delivery",
   "metadata": {},
   "source": [
    "### DATA SIZE"
   ]
  },
  {
   "cell_type": "code",
   "execution_count": 7,
   "id": "hundred-graphic",
   "metadata": {},
   "outputs": [
    {
     "name": "stdout",
     "output_type": "stream",
     "text": [
      "The length of price data is\t 851264\n",
      "The length of securites data is\t 505\n"
     ]
    }
   ],
   "source": [
    "#Number of Sample for the data\n",
    "Sample=len(df) \n",
    "Sample1=len(df1) \n",
    "print('The length of price data is\\t',Sample)\n",
    "print('The length of securites data is\\t',Sample1)"
   ]
  },
  {
   "cell_type": "markdown",
   "id": "freelance-adobe",
   "metadata": {},
   "source": [
    "## Data Infomation"
   ]
  },
  {
   "cell_type": "code",
   "execution_count": 8,
   "id": "painted-korea",
   "metadata": {},
   "outputs": [
    {
     "name": "stdout",
     "output_type": "stream",
     "text": [
      "<class 'pandas.core.frame.DataFrame'>\n",
      "RangeIndex: 851264 entries, 0 to 851263\n",
      "Data columns (total 7 columns):\n",
      " #   Column  Non-Null Count   Dtype  \n",
      "---  ------  --------------   -----  \n",
      " 0   date    851264 non-null  object \n",
      " 1   symbol  851264 non-null  object \n",
      " 2   open    851264 non-null  float64\n",
      " 3   close   851264 non-null  float64\n",
      " 4   low     851264 non-null  float64\n",
      " 5   high    851264 non-null  float64\n",
      " 6   volume  851264 non-null  float64\n",
      "dtypes: float64(5), object(2)\n",
      "memory usage: 45.5+ MB\n"
     ]
    }
   ],
   "source": [
    "# checking the information regarding the data\n",
    "df.info()"
   ]
  },
  {
   "cell_type": "code",
   "execution_count": 9,
   "id": "applicable-optimization",
   "metadata": {},
   "outputs": [
    {
     "name": "stdout",
     "output_type": "stream",
     "text": [
      "<class 'pandas.core.frame.DataFrame'>\n",
      "RangeIndex: 505 entries, 0 to 504\n",
      "Data columns (total 8 columns):\n",
      " #   Column                   Non-Null Count  Dtype \n",
      "---  ------                   --------------  ----- \n",
      " 0   Ticker symbol            505 non-null    object\n",
      " 1   Security                 505 non-null    object\n",
      " 2   SEC filings              505 non-null    object\n",
      " 3   GICS Sector              505 non-null    object\n",
      " 4   GICS Sub Industry        505 non-null    object\n",
      " 5   Address of Headquarters  505 non-null    object\n",
      " 6   Date first added         307 non-null    object\n",
      " 7   CIK                      505 non-null    int64 \n",
      "dtypes: int64(1), object(7)\n",
      "memory usage: 31.7+ KB\n"
     ]
    }
   ],
   "source": [
    "df1.info()"
   ]
  },
  {
   "cell_type": "markdown",
   "id": "african-classic",
   "metadata": {},
   "source": [
    "## Data Description"
   ]
  },
  {
   "cell_type": "code",
   "execution_count": 10,
   "id": "seasonal-nightlife",
   "metadata": {},
   "outputs": [
    {
     "data": {
      "text/html": [
       "<div>\n",
       "<style scoped>\n",
       "    .dataframe tbody tr th:only-of-type {\n",
       "        vertical-align: middle;\n",
       "    }\n",
       "\n",
       "    .dataframe tbody tr th {\n",
       "        vertical-align: top;\n",
       "    }\n",
       "\n",
       "    .dataframe thead th {\n",
       "        text-align: right;\n",
       "    }\n",
       "</style>\n",
       "<table border=\"1\" class=\"dataframe\">\n",
       "  <thead>\n",
       "    <tr style=\"text-align: right;\">\n",
       "      <th></th>\n",
       "      <th>open</th>\n",
       "      <th>close</th>\n",
       "      <th>low</th>\n",
       "      <th>high</th>\n",
       "      <th>volume</th>\n",
       "    </tr>\n",
       "  </thead>\n",
       "  <tbody>\n",
       "    <tr>\n",
       "      <th>count</th>\n",
       "      <td>851264.000000</td>\n",
       "      <td>851264.000000</td>\n",
       "      <td>851264.000000</td>\n",
       "      <td>851264.000000</td>\n",
       "      <td>8.512640e+05</td>\n",
       "    </tr>\n",
       "    <tr>\n",
       "      <th>mean</th>\n",
       "      <td>70.836986</td>\n",
       "      <td>70.857109</td>\n",
       "      <td>70.118414</td>\n",
       "      <td>71.543476</td>\n",
       "      <td>5.415113e+06</td>\n",
       "    </tr>\n",
       "    <tr>\n",
       "      <th>std</th>\n",
       "      <td>83.695876</td>\n",
       "      <td>83.689686</td>\n",
       "      <td>82.877294</td>\n",
       "      <td>84.465504</td>\n",
       "      <td>1.249468e+07</td>\n",
       "    </tr>\n",
       "    <tr>\n",
       "      <th>min</th>\n",
       "      <td>0.850000</td>\n",
       "      <td>0.860000</td>\n",
       "      <td>0.830000</td>\n",
       "      <td>0.880000</td>\n",
       "      <td>0.000000e+00</td>\n",
       "    </tr>\n",
       "    <tr>\n",
       "      <th>25%</th>\n",
       "      <td>33.840000</td>\n",
       "      <td>33.849998</td>\n",
       "      <td>33.480000</td>\n",
       "      <td>34.189999</td>\n",
       "      <td>1.221500e+06</td>\n",
       "    </tr>\n",
       "    <tr>\n",
       "      <th>50%</th>\n",
       "      <td>52.770000</td>\n",
       "      <td>52.799999</td>\n",
       "      <td>52.230000</td>\n",
       "      <td>53.310001</td>\n",
       "      <td>2.476250e+06</td>\n",
       "    </tr>\n",
       "    <tr>\n",
       "      <th>75%</th>\n",
       "      <td>79.879997</td>\n",
       "      <td>79.889999</td>\n",
       "      <td>79.110001</td>\n",
       "      <td>80.610001</td>\n",
       "      <td>5.222500e+06</td>\n",
       "    </tr>\n",
       "    <tr>\n",
       "      <th>max</th>\n",
       "      <td>1584.439941</td>\n",
       "      <td>1578.130005</td>\n",
       "      <td>1549.939941</td>\n",
       "      <td>1600.930054</td>\n",
       "      <td>8.596434e+08</td>\n",
       "    </tr>\n",
       "  </tbody>\n",
       "</table>\n",
       "</div>"
      ],
      "text/plain": [
       "                open          close            low           high  \\\n",
       "count  851264.000000  851264.000000  851264.000000  851264.000000   \n",
       "mean       70.836986      70.857109      70.118414      71.543476   \n",
       "std        83.695876      83.689686      82.877294      84.465504   \n",
       "min         0.850000       0.860000       0.830000       0.880000   \n",
       "25%        33.840000      33.849998      33.480000      34.189999   \n",
       "50%        52.770000      52.799999      52.230000      53.310001   \n",
       "75%        79.879997      79.889999      79.110001      80.610001   \n",
       "max      1584.439941    1578.130005    1549.939941    1600.930054   \n",
       "\n",
       "             volume  \n",
       "count  8.512640e+05  \n",
       "mean   5.415113e+06  \n",
       "std    1.249468e+07  \n",
       "min    0.000000e+00  \n",
       "25%    1.221500e+06  \n",
       "50%    2.476250e+06  \n",
       "75%    5.222500e+06  \n",
       "max    8.596434e+08  "
      ]
     },
     "execution_count": 10,
     "metadata": {},
     "output_type": "execute_result"
    }
   ],
   "source": [
    "# describing the data\n",
    "df.describe()"
   ]
  },
  {
   "cell_type": "markdown",
   "id": "clear-defendant",
   "metadata": {},
   "source": [
    "# Data Processing"
   ]
  },
  {
   "cell_type": "markdown",
   "id": "behind-michael",
   "metadata": {},
   "source": [
    "### Selecting 3 Stocks Randomly"
   ]
  },
  {
   "cell_type": "code",
   "execution_count": 11,
   "id": "mathematical-thing",
   "metadata": {},
   "outputs": [
    {
     "data": {
      "text/html": [
       "<div>\n",
       "<style scoped>\n",
       "    .dataframe tbody tr th:only-of-type {\n",
       "        vertical-align: middle;\n",
       "    }\n",
       "\n",
       "    .dataframe tbody tr th {\n",
       "        vertical-align: top;\n",
       "    }\n",
       "\n",
       "    .dataframe thead th {\n",
       "        text-align: right;\n",
       "    }\n",
       "</style>\n",
       "<table border=\"1\" class=\"dataframe\">\n",
       "  <thead>\n",
       "    <tr style=\"text-align: right;\">\n",
       "      <th></th>\n",
       "      <th>date</th>\n",
       "      <th>symbol</th>\n",
       "      <th>open</th>\n",
       "      <th>close</th>\n",
       "      <th>low</th>\n",
       "      <th>high</th>\n",
       "      <th>volume</th>\n",
       "    </tr>\n",
       "  </thead>\n",
       "  <tbody>\n",
       "    <tr>\n",
       "      <th>531</th>\n",
       "      <td>2010-01-04</td>\n",
       "      <td>MET</td>\n",
       "      <td>35.880001</td>\n",
       "      <td>36.299999</td>\n",
       "      <td>35.459999</td>\n",
       "      <td>36.340000</td>\n",
       "      <td>4767000.0</td>\n",
       "    </tr>\n",
       "    <tr>\n",
       "      <th>673</th>\n",
       "      <td>2010-01-04</td>\n",
       "      <td>UNM</td>\n",
       "      <td>19.730000</td>\n",
       "      <td>19.940001</td>\n",
       "      <td>19.549999</td>\n",
       "      <td>20.049999</td>\n",
       "      <td>3110300.0</td>\n",
       "    </tr>\n",
       "    <tr>\n",
       "      <th>702</th>\n",
       "      <td>2010-01-04</td>\n",
       "      <td>WU</td>\n",
       "      <td>19.100000</td>\n",
       "      <td>19.090000</td>\n",
       "      <td>19.049999</td>\n",
       "      <td>19.240000</td>\n",
       "      <td>4277900.0</td>\n",
       "    </tr>\n",
       "    <tr>\n",
       "      <th>999</th>\n",
       "      <td>2010-01-05</td>\n",
       "      <td>MET</td>\n",
       "      <td>36.080002</td>\n",
       "      <td>37.139999</td>\n",
       "      <td>36.009998</td>\n",
       "      <td>37.230000</td>\n",
       "      <td>5604300.0</td>\n",
       "    </tr>\n",
       "    <tr>\n",
       "      <th>1141</th>\n",
       "      <td>2010-01-05</td>\n",
       "      <td>UNM</td>\n",
       "      <td>19.850000</td>\n",
       "      <td>20.230000</td>\n",
       "      <td>19.799999</td>\n",
       "      <td>20.290001</td>\n",
       "      <td>1989000.0</td>\n",
       "    </tr>\n",
       "    <tr>\n",
       "      <th>...</th>\n",
       "      <td>...</td>\n",
       "      <td>...</td>\n",
       "      <td>...</td>\n",
       "      <td>...</td>\n",
       "      <td>...</td>\n",
       "      <td>...</td>\n",
       "      <td>...</td>\n",
       "    </tr>\n",
       "    <tr>\n",
       "      <th>850715</th>\n",
       "      <td>2016-12-29</td>\n",
       "      <td>UNM</td>\n",
       "      <td>43.970001</td>\n",
       "      <td>43.810001</td>\n",
       "      <td>43.700001</td>\n",
       "      <td>44.330002</td>\n",
       "      <td>802100.0</td>\n",
       "    </tr>\n",
       "    <tr>\n",
       "      <th>850745</th>\n",
       "      <td>2016-12-29</td>\n",
       "      <td>WU</td>\n",
       "      <td>21.799999</td>\n",
       "      <td>21.830000</td>\n",
       "      <td>21.719999</td>\n",
       "      <td>21.950001</td>\n",
       "      <td>2001800.0</td>\n",
       "    </tr>\n",
       "    <tr>\n",
       "      <th>851061</th>\n",
       "      <td>2016-12-30</td>\n",
       "      <td>MET</td>\n",
       "      <td>53.919998</td>\n",
       "      <td>53.889999</td>\n",
       "      <td>53.740002</td>\n",
       "      <td>54.119999</td>\n",
       "      <td>4188500.0</td>\n",
       "    </tr>\n",
       "    <tr>\n",
       "      <th>851215</th>\n",
       "      <td>2016-12-30</td>\n",
       "      <td>UNM</td>\n",
       "      <td>44.060001</td>\n",
       "      <td>43.930000</td>\n",
       "      <td>43.730000</td>\n",
       "      <td>44.110001</td>\n",
       "      <td>1054000.0</td>\n",
       "    </tr>\n",
       "    <tr>\n",
       "      <th>851245</th>\n",
       "      <td>2016-12-30</td>\n",
       "      <td>WU</td>\n",
       "      <td>21.840000</td>\n",
       "      <td>21.719999</td>\n",
       "      <td>21.600000</td>\n",
       "      <td>21.900000</td>\n",
       "      <td>2538900.0</td>\n",
       "    </tr>\n",
       "  </tbody>\n",
       "</table>\n",
       "<p>5286 rows × 7 columns</p>\n",
       "</div>"
      ],
      "text/plain": [
       "              date symbol       open      close        low       high  \\\n",
       "531     2010-01-04    MET  35.880001  36.299999  35.459999  36.340000   \n",
       "673     2010-01-04    UNM  19.730000  19.940001  19.549999  20.049999   \n",
       "702     2010-01-04     WU  19.100000  19.090000  19.049999  19.240000   \n",
       "999     2010-01-05    MET  36.080002  37.139999  36.009998  37.230000   \n",
       "1141    2010-01-05    UNM  19.850000  20.230000  19.799999  20.290001   \n",
       "...            ...    ...        ...        ...        ...        ...   \n",
       "850715  2016-12-29    UNM  43.970001  43.810001  43.700001  44.330002   \n",
       "850745  2016-12-29     WU  21.799999  21.830000  21.719999  21.950001   \n",
       "851061  2016-12-30    MET  53.919998  53.889999  53.740002  54.119999   \n",
       "851215  2016-12-30    UNM  44.060001  43.930000  43.730000  44.110001   \n",
       "851245  2016-12-30     WU  21.840000  21.719999  21.600000  21.900000   \n",
       "\n",
       "           volume  \n",
       "531     4767000.0  \n",
       "673     3110300.0  \n",
       "702     4277900.0  \n",
       "999     5604300.0  \n",
       "1141    1989000.0  \n",
       "...           ...  \n",
       "850715   802100.0  \n",
       "850745  2001800.0  \n",
       "851061  4188500.0  \n",
       "851215  1054000.0  \n",
       "851245  2538900.0  \n",
       "\n",
       "[5286 rows x 7 columns]"
      ]
     },
     "execution_count": 11,
     "metadata": {},
     "output_type": "execute_result"
    }
   ],
   "source": [
    "# Randomly select three stocks\n",
    "selected_stock = df['symbol'].sample(n=3, random_state=13)\n",
    "\n",
    "df = df.loc[df['symbol'].isin(selected_stock), :]\n",
    "df"
   ]
  },
  {
   "cell_type": "markdown",
   "id": "early-phase",
   "metadata": {},
   "source": [
    "## Calculating the mean return and saving them into the matrix"
   ]
  },
  {
   "cell_type": "code",
   "execution_count": 12,
   "id": "failing-control",
   "metadata": {},
   "outputs": [
    {
     "data": {
      "text/plain": [
       "array([43.85099885, 28.51871737, 17.89182746])"
      ]
     },
     "execution_count": 12,
     "metadata": {},
     "output_type": "execute_result"
    }
   ],
   "source": [
    "#calculate mean return of each stock\n",
    "mean_stock = df.groupby('symbol')['close',].mean().reset_index().rename(columns={'close': 'mean'})\n",
    "#mean_stock.to_numpy()\n",
    "mean_array =mean_stock['mean'].to_numpy()\n",
    "mean_array"
   ]
  },
  {
   "cell_type": "markdown",
   "id": "passive-valley",
   "metadata": {},
   "source": [
    "## Deaming the prices (How far are the prices from the mean)\n",
    " ### we are only considering the closing stock prices"
   ]
  },
  {
   "cell_type": "code",
   "execution_count": 13,
   "id": "thrown-kinase",
   "metadata": {},
   "outputs": [
    {
     "data": {
      "text/plain": [
       "array([[-7.55099985, -8.57871637,  1.19817254],\n",
       "       [-6.71099985, -8.28871737,  1.11817254],\n",
       "       [-6.33099885, -8.10871737,  1.10817254],\n",
       "       ...,\n",
       "       [10.11900215, 15.44128163,  3.83817254],\n",
       "       [ 9.94900015, 15.29128363,  3.93817254],\n",
       "       [10.03900015, 15.41128263,  3.82817154]])"
      ]
     },
     "execution_count": 13,
     "metadata": {},
     "output_type": "execute_result"
    }
   ],
   "source": [
    "# Using the MET stock, we subtract close variable with its mean and convert to numpy\n",
    "df_MET = df[df['symbol'] == 'MET']\n",
    "demean_met = [x-mean_array[0] for x in (df_MET[\"close\"].to_numpy())]\n",
    "\n",
    "# Using the UNM stock, we subtract close variable with its mean and convert to numpy\n",
    "df_UNM = df[df['symbol'] == 'UNM']\n",
    "demean_unm =[x-mean_array[1] for x in (df_UNM[\"close\"].to_numpy())]\n",
    "\n",
    "# Using the WU stock, we subtract close variable with its mean and convert to numpy\n",
    "df_WU = df[df['symbol'] == 'WU']\n",
    "demean_wu =[x-mean_array[2] for x in (df_WU[\"close\"].to_numpy())]\n",
    "\n",
    "# Putting the result in matrix\n",
    "matrix_demean = np.transpose([demean_met,demean_unm, demean_wu])\n",
    "matrix_demean"
   ]
  },
  {
   "cell_type": "markdown",
   "id": "agreed-leeds",
   "metadata": {},
   "source": [
    "## Covariance Matrix Calculation"
   ]
  },
  {
   "cell_type": "code",
   "execution_count": 14,
   "id": "golden-donna",
   "metadata": {},
   "outputs": [
    {
     "data": {
      "text/plain": [
       "array([[57.31782905, 39.96860826,  5.71553873],\n",
       "       [39.96860826, 36.55947315,  5.00233586],\n",
       "       [ 5.71553873,  5.00233586,  3.95435453]])"
      ]
     },
     "execution_count": 14,
     "metadata": {},
     "output_type": "execute_result"
    }
   ],
   "source": [
    "# We calculate the covariance matrix and it gives as a 3 by 3 matrix\n",
    "covariance_matrix = (np.transpose(matrix_demean)@matrix_demean)/len(demean_wu)\n",
    "covariance_matrix"
   ]
  },
  {
   "cell_type": "markdown",
   "id": "collaborative-effectiveness",
   "metadata": {},
   "source": [
    "### Variances of Each stock\n",
    "By cheking the diagonal elements of covariance matrix"
   ]
  },
  {
   "cell_type": "code",
   "execution_count": 15,
   "id": "olympic-maryland",
   "metadata": {},
   "outputs": [
    {
     "data": {
      "text/plain": [
       "array([57.31782905, 36.55947315,  3.95435453])"
      ]
     },
     "execution_count": 15,
     "metadata": {},
     "output_type": "execute_result"
    }
   ],
   "source": [
    "# Displaying the variance for each stock\n",
    "variance_stock = np.diag(covariance_matrix)\n",
    "variance_stock"
   ]
  },
  {
   "cell_type": "markdown",
   "id": "decent-reader",
   "metadata": {},
   "source": [
    "## Randomly Selects the weights"
   ]
  },
  {
   "cell_type": "code",
   "execution_count": 16,
   "id": "immediate-growth",
   "metadata": {},
   "outputs": [
    {
     "data": {
      "text/plain": [
       "array([0.3726756 , 0.35094872, 0.27637568])"
      ]
     },
     "execution_count": 16,
     "metadata": {},
     "output_type": "execute_result"
    }
   ],
   "source": [
    "# We want to find expected return by firstly generating weights randomly\n",
    "weights  = np.random.rand(3)\n",
    "weights =weights/sum(weights)\n",
    "weights"
   ]
  },
  {
   "cell_type": "markdown",
   "id": "plain-basis",
   "metadata": {},
   "source": [
    "## Calculating the expected return"
   ]
  },
  {
   "cell_type": "code",
   "execution_count": 17,
   "id": "south-peace",
   "metadata": {},
   "outputs": [
    {
     "data": {
      "text/plain": [
       "31.29567071240033"
      ]
     },
     "execution_count": 17,
     "metadata": {},
     "output_type": "execute_result"
    }
   ],
   "source": [
    "# Calculating the expected return using randoly generated weights\n",
    "expected_portfolio_returns = mean_array@(np.transpose(weights))\n",
    "expected_portfolio_returns"
   ]
  },
  {
   "cell_type": "markdown",
   "id": "transsexual-graph",
   "metadata": {},
   "source": [
    "# Implementation of Bayesian Optimisation"
   ]
  },
  {
   "cell_type": "markdown",
   "id": "adjusted-granny",
   "metadata": {},
   "source": [
    "## Defining Objective Function"
   ]
  },
  {
   "cell_type": "code",
   "execution_count": 18,
   "id": "pressed-sheet",
   "metadata": {},
   "outputs": [],
   "source": [
    "def fittness_function(weights): # Defining objective function\n",
    "    if sum(weights) >1: # Putting constraints on weights\n",
    "        return 0\n",
    "    else:\n",
    "        objective_function= (np.transpose(weights))@covariance_matrix@weights # Objective function\n",
    "        return (-1)*objective_function # returning objecive function we want to minimise"
   ]
  },
  {
   "cell_type": "markdown",
   "id": "italian-terminology",
   "metadata": {},
   "source": [
    "## Running Bayesian optimisation\n",
    "- we make use of the following:\n",
    "    1. Gaussian process\n",
    "    2. Expected Improvement Acquisition Function"
   ]
  },
  {
   "cell_type": "code",
   "execution_count": 19,
   "id": "outstanding-motorcycle",
   "metadata": {},
   "outputs": [
    {
     "name": "stderr",
     "output_type": "stream",
     "text": [
      "/home/moses/.local/lib/python3.9/site-packages/skopt/optimizer/optimizer.py:449: UserWarning: The objective has been evaluated at this point before.\n",
      "  warnings.warn(\"The objective has been evaluated \"\n",
      "/home/moses/.local/lib/python3.9/site-packages/skopt/optimizer/optimizer.py:449: UserWarning: The objective has been evaluated at this point before.\n",
      "  warnings.warn(\"The objective has been evaluated \"\n"
     ]
    }
   ],
   "source": [
    "bounds=[(0,1) ,(0,1),(0,1)] # Setting the search space\n",
    "res = gp_minimize(fittness_function, # this is the function we want to minimize\n",
    "bounds, # the bounds \n",
    "acq_func=\"EI\", # The Expected improvement acquisition function was used. \n",
    "n_calls=10, # This stands for number of evaluations of the function\n",
    "n_random_starts=5, # the number of random initialization points\n",
    "noise=0.1**2, # the noise level \n",
    "random_state=1234) # the random seed"
   ]
  },
  {
   "cell_type": "code",
   "execution_count": 20,
   "id": "overhead-compact",
   "metadata": {},
   "outputs": [
    {
     "data": {
      "text/plain": [
       "          fun: -57.3178290481522\n",
       "    func_vals: array([  0.        ,   0.        , -36.55947315,  -0.        ,\n",
       "       -36.55947315, -57.31782905, -57.31782905,   0.        ,\n",
       "        -3.95435453, -57.31782905])\n",
       "       models: [GaussianProcessRegressor(kernel=1**2 * Matern(length_scale=[1, 1, 1], nu=2.5) + WhiteKernel(noise_level=0.01),\n",
       "                         n_restarts_optimizer=2, noise=0.010000000000000002,\n",
       "                         normalize_y=True, random_state=822569775), GaussianProcessRegressor(kernel=1**2 * Matern(length_scale=[1, 1, 1], nu=2.5) + WhiteKernel(noise_level=0.01),\n",
       "                         n_restarts_optimizer=2, noise=0.010000000000000002,\n",
       "                         normalize_y=True, random_state=822569775), GaussianProcessRegressor(kernel=1**2 * Matern(length_scale=[1, 1, 1], nu=2.5) + WhiteKernel(noise_level=0.01),\n",
       "                         n_restarts_optimizer=2, noise=0.010000000000000002,\n",
       "                         normalize_y=True, random_state=822569775), GaussianProcessRegressor(kernel=1**2 * Matern(length_scale=[1, 1, 1], nu=2.5) + WhiteKernel(noise_level=0.01),\n",
       "                         n_restarts_optimizer=2, noise=0.010000000000000002,\n",
       "                         normalize_y=True, random_state=822569775), GaussianProcessRegressor(kernel=1**2 * Matern(length_scale=[1, 1, 1], nu=2.5) + WhiteKernel(noise_level=0.01),\n",
       "                         n_restarts_optimizer=2, noise=0.010000000000000002,\n",
       "                         normalize_y=True, random_state=822569775), GaussianProcessRegressor(kernel=1**2 * Matern(length_scale=[1, 1, 1], nu=2.5) + WhiteKernel(noise_level=0.01),\n",
       "                         n_restarts_optimizer=2, noise=0.010000000000000002,\n",
       "                         normalize_y=True, random_state=822569775)]\n",
       " random_state: RandomState(MT19937) at 0x7FF9FD943740\n",
       "        space: Space([Integer(low=0, high=1, prior='uniform', transform='normalize'),\n",
       "       Integer(low=0, high=1, prior='uniform', transform='normalize'),\n",
       "       Integer(low=0, high=1, prior='uniform', transform='normalize')])\n",
       "        specs: {'args': {'func': <function fittness_function at 0x7ff9fd7c8430>, 'dimensions': Space([Integer(low=0, high=1, prior='uniform', transform='normalize'),\n",
       "       Integer(low=0, high=1, prior='uniform', transform='normalize'),\n",
       "       Integer(low=0, high=1, prior='uniform', transform='normalize')]), 'base_estimator': GaussianProcessRegressor(kernel=1**2 * Matern(length_scale=[1, 1, 1], nu=2.5),\n",
       "                         n_restarts_optimizer=2, noise=0.010000000000000002,\n",
       "                         normalize_y=True, random_state=822569775), 'n_calls': 10, 'n_random_starts': 5, 'n_initial_points': 10, 'initial_point_generator': 'random', 'acq_func': 'EI', 'acq_optimizer': 'auto', 'x0': None, 'y0': None, 'random_state': RandomState(MT19937) at 0x7FF9FD943740, 'verbose': False, 'callback': None, 'n_points': 10000, 'n_restarts_optimizer': 5, 'xi': 0.01, 'kappa': 1.96, 'n_jobs': 1, 'model_queue_size': None}, 'function': 'base_minimize'}\n",
       "            x: [1, 0, 0]\n",
       "      x_iters: [[0, 1, 1], [1, 1, 0], [0, 1, 0], [0, 0, 0], [0, 1, 0], [1, 0, 0], [1, 0, 0], [1, 0, 1], [0, 0, 1], [1, 0, 0]]"
      ]
     },
     "execution_count": 20,
     "metadata": {},
     "output_type": "execute_result"
    }
   ],
   "source": [
    "res #Displaying the result"
   ]
  },
  {
   "cell_type": "markdown",
   "id": "special-december",
   "metadata": {},
   "source": [
    "## Convergence Plot"
   ]
  },
  {
   "cell_type": "code",
   "execution_count": 21,
   "id": "romance-melissa",
   "metadata": {},
   "outputs": [
    {
     "data": {
      "text/plain": [
       "<AxesSubplot:title={'center':'Convergence plot'}, xlabel='Number of calls $n$', ylabel='$\\\\min f(x)$ after $n$ calls'>"
      ]
     },
     "execution_count": 21,
     "metadata": {},
     "output_type": "execute_result"
    },
    {
     "data": {
      "image/png": "[encoded data removed]",
      "text/plain": [
       "<Figure size 432x288 with 1 Axes>"
      ]
     },
     "metadata": {
      "needs_background": "light"
     },
     "output_type": "display_data"
    }
   ],
   "source": [
    "plot_convergence(res) # We aim at coming up with convergence plot"
   ]
  },
  {
   "cell_type": "markdown",
   "id": "copyrighted-joseph",
   "metadata": {},
   "source": [
    "## We Merge the weights and three selected stocks to the securities data as follows"
   ]
  },
  {
   "cell_type": "code",
   "execution_count": 22,
   "id": "instrumental-decimal",
   "metadata": {},
   "outputs": [
    {
     "data": {
      "text/html": [
       "<style  type=\"text/css\" >\n",
       "</style><table id=\"T_6884e730_fa84_11ed_bae2_396f68cc29ac\" ><thead>    <tr>        <th class=\"blank level0\" ></th>        <th class=\"col_heading level0 col0\" >stock</th>        <th class=\"col_heading level0 col1\" >weight</th>        <th class=\"col_heading level0 col2\" >Security</th>        <th class=\"col_heading level0 col3\" >SEC filings</th>        <th class=\"col_heading level0 col4\" >GICS Sector</th>        <th class=\"col_heading level0 col5\" >GICS Sub Industry</th>        <th class=\"col_heading level0 col6\" >Address of Headquarters</th>        <th class=\"col_heading level0 col7\" >Date first added</th>        <th class=\"col_heading level0 col8\" >CIK</th>    </tr></thead><tbody>\n",
       "                <tr>\n",
       "                        <th id=\"T_6884e730_fa84_11ed_bae2_396f68cc29aclevel0_row0\" class=\"row_heading level0 row0\" >0</th>\n",
       "                        <td id=\"T_6884e730_fa84_11ed_bae2_396f68cc29acrow0_col0\" class=\"data row0 col0\" >UNM</td>\n",
       "                        <td id=\"T_6884e730_fa84_11ed_bae2_396f68cc29acrow0_col1\" class=\"data row0 col1\" >100.00%</td>\n",
       "                        <td id=\"T_6884e730_fa84_11ed_bae2_396f68cc29acrow0_col2\" class=\"data row0 col2\" >Unum Group</td>\n",
       "                        <td id=\"T_6884e730_fa84_11ed_bae2_396f68cc29acrow0_col3\" class=\"data row0 col3\" >reports</td>\n",
       "                        <td id=\"T_6884e730_fa84_11ed_bae2_396f68cc29acrow0_col4\" class=\"data row0 col4\" >Financials</td>\n",
       "                        <td id=\"T_6884e730_fa84_11ed_bae2_396f68cc29acrow0_col5\" class=\"data row0 col5\" >Diversified Financial Services</td>\n",
       "                        <td id=\"T_6884e730_fa84_11ed_bae2_396f68cc29acrow0_col6\" class=\"data row0 col6\" >Chattanooga, Tennessee</td>\n",
       "                        <td id=\"T_6884e730_fa84_11ed_bae2_396f68cc29acrow0_col7\" class=\"data row0 col7\" >1994-03-01</td>\n",
       "                        <td id=\"T_6884e730_fa84_11ed_bae2_396f68cc29acrow0_col8\" class=\"data row0 col8\" >5513</td>\n",
       "            </tr>\n",
       "            <tr>\n",
       "                        <th id=\"T_6884e730_fa84_11ed_bae2_396f68cc29aclevel0_row1\" class=\"row_heading level0 row1\" >1</th>\n",
       "                        <td id=\"T_6884e730_fa84_11ed_bae2_396f68cc29acrow1_col0\" class=\"data row1 col0\" >MET</td>\n",
       "                        <td id=\"T_6884e730_fa84_11ed_bae2_396f68cc29acrow1_col1\" class=\"data row1 col1\" >0.00%</td>\n",
       "                        <td id=\"T_6884e730_fa84_11ed_bae2_396f68cc29acrow1_col2\" class=\"data row1 col2\" >MetLife Inc.</td>\n",
       "                        <td id=\"T_6884e730_fa84_11ed_bae2_396f68cc29acrow1_col3\" class=\"data row1 col3\" >reports</td>\n",
       "                        <td id=\"T_6884e730_fa84_11ed_bae2_396f68cc29acrow1_col4\" class=\"data row1 col4\" >Financials</td>\n",
       "                        <td id=\"T_6884e730_fa84_11ed_bae2_396f68cc29acrow1_col5\" class=\"data row1 col5\" >Life & Health Insurance</td>\n",
       "                        <td id=\"T_6884e730_fa84_11ed_bae2_396f68cc29acrow1_col6\" class=\"data row1 col6\" >New York, New York</td>\n",
       "                        <td id=\"T_6884e730_fa84_11ed_bae2_396f68cc29acrow1_col7\" class=\"data row1 col7\" >nan</td>\n",
       "                        <td id=\"T_6884e730_fa84_11ed_bae2_396f68cc29acrow1_col8\" class=\"data row1 col8\" >1099219</td>\n",
       "            </tr>\n",
       "            <tr>\n",
       "                        <th id=\"T_6884e730_fa84_11ed_bae2_396f68cc29aclevel0_row2\" class=\"row_heading level0 row2\" >2</th>\n",
       "                        <td id=\"T_6884e730_fa84_11ed_bae2_396f68cc29acrow2_col0\" class=\"data row2 col0\" >WU</td>\n",
       "                        <td id=\"T_6884e730_fa84_11ed_bae2_396f68cc29acrow2_col1\" class=\"data row2 col1\" >0.00%</td>\n",
       "                        <td id=\"T_6884e730_fa84_11ed_bae2_396f68cc29acrow2_col2\" class=\"data row2 col2\" >Western Union Co</td>\n",
       "                        <td id=\"T_6884e730_fa84_11ed_bae2_396f68cc29acrow2_col3\" class=\"data row2 col3\" >reports</td>\n",
       "                        <td id=\"T_6884e730_fa84_11ed_bae2_396f68cc29acrow2_col4\" class=\"data row2 col4\" >Information Technology</td>\n",
       "                        <td id=\"T_6884e730_fa84_11ed_bae2_396f68cc29acrow2_col5\" class=\"data row2 col5\" >Internet Software & Services</td>\n",
       "                        <td id=\"T_6884e730_fa84_11ed_bae2_396f68cc29acrow2_col6\" class=\"data row2 col6\" >Englewood, Colorado</td>\n",
       "                        <td id=\"T_6884e730_fa84_11ed_bae2_396f68cc29acrow2_col7\" class=\"data row2 col7\" >nan</td>\n",
       "                        <td id=\"T_6884e730_fa84_11ed_bae2_396f68cc29acrow2_col8\" class=\"data row2 col8\" >1365135</td>\n",
       "            </tr>\n",
       "    </tbody></table>"
      ],
      "text/plain": [
       "<pandas.io.formats.style.Styler at 0x7ff9fd96bbb0>"
      ]
     },
     "execution_count": 22,
     "metadata": {},
     "output_type": "execute_result"
    }
   ],
   "source": [
    "# In this case we add weights and the stocks to securites data.\n",
    "weights = res.x\n",
    "pd.DataFrame({'stock': selected_stock.values, 'weight': weights}).merge(df1, left_on='stock', right_on='Ticker symbol')    .drop('Ticker symbol', axis=1).sort_values('weight', ascending=False)    .reset_index(drop=True).style.format({'weight': '{:.2%}'})"
   ]
  }
 ],
 "metadata": {
  "kernelspec": {
   "display_name": "Python 3",
   "language": "python",
   "name": "python3"
  },
  "language_info": {
   "codemirror_mode": {
    "name": "ipython",
    "version": 3
   },
   "file_extension": ".py",
   "mimetype": "text/x-python",
   "name": "python",
   "nbconvert_exporter": "python",
   "pygments_lexer": "ipython3",
   "version": "3.9.2"
  }
 },
 "nbformat": 4,
 "nbformat_minor": 5
}
